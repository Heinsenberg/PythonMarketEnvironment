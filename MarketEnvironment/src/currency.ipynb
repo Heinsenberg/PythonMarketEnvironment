{
 "cells": [
  {
   "cell_type": "code",
   "execution_count": 6,
   "metadata": {},
   "outputs": [
    {
     "name": "stdout",
     "output_type": "stream",
     "text": [
      "Enter the currency name please: eur\n",
      "EUR\n"
     ]
    }
   ],
   "source": [
    "from enum import Enum\n",
    "\n",
    "class Currency:\n",
    "\n",
    "    class currency_compounding_daycount(Enum):\n",
    "            ACTUAL = \"ACT\"\n",
    "            BUSINESS = \"BUS\"\n",
    "        \n",
    "    class currency_compounding_daycount_convention(Enum):\n",
    "            CAL_YEAR = 365\n",
    "            CAL_YEAR_ADJ = 360\n",
    "            BUS_YEAR = 252        \n",
    "        \n",
    "    def check_iso_code(self,name):\n",
    "        assert (len(name) == 3)\n",
    "\n",
    "    def set_currency(self,name):\n",
    "        try:\n",
    "            self.check_iso_code(name)\n",
    "            self.name = name.upper()\n",
    "        except AssertionError as error:\n",
    "            print(error)\n",
    "\n",
    "    def get_currency(self): \n",
    "\n",
    "        try:\n",
    "            self.check_iso_code(self.name) \n",
    "        except:\n",
    "            self.name = \"currency ISO codes have 3 characters! \"\n",
    "\n",
    "        return self.name\n",
    "\n",
    "def main():\n",
    "    my_input = input(\"Enter the currency name please: \")\n",
    "    ccy = Currency()\n",
    "    ccy.set_currency(my_input)\n",
    "    ccy.get_currency()\n",
    "    print(ccy.name)\n",
    "    \n",
    "if __name__ == \"__main__\":\n",
    "    main()"
   ]
  },
  {
   "cell_type": "code",
   "execution_count": null,
   "metadata": {},
   "outputs": [],
   "source": []
  },
  {
   "cell_type": "code",
   "execution_count": null,
   "metadata": {},
   "outputs": [],
   "source": []
  }
 ],
 "metadata": {
  "kernelspec": {
   "display_name": "Python 3",
   "language": "python",
   "name": "python3"
  },
  "language_info": {
   "codemirror_mode": {
    "name": "ipython",
    "version": 3
   },
   "file_extension": ".py",
   "mimetype": "text/x-python",
   "name": "python",
   "nbconvert_exporter": "python",
   "pygments_lexer": "ipython3",
   "version": "3.6.5"
  }
 },
 "nbformat": 4,
 "nbformat_minor": 2
}
