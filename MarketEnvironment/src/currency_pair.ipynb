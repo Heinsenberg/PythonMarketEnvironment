{
 "cells": [
  {
   "cell_type": "code",
   "execution_count": 1,
   "metadata": {},
   "outputs": [
    {
     "name": "stdout",
     "output_type": "stream",
     "text": [
      "Enter the currency pair please: eur\n",
      "Currency Pair should be 6 letters : 2 x currency codes!\n"
     ]
    }
   ],
   "source": [
    "class currency_pair:\n",
    "    \n",
    "        def check_currency_pair(self,name):\n",
    "            assert (len(name) == 6), \"Currency Pair should be 6 letters : 2 x currency codes!\"\n",
    "        \n",
    "        def set_currency_pair(self,name):\n",
    "            try:\n",
    "                self.check_currency_pair(name)\n",
    "                self.name = name.upper()\n",
    "                LHS_ccy = currency()\n",
    "                LHS_ccy.set_currency(self.name[0:3])\n",
    "                RHS_ccy = currency()\n",
    "                RHS_ccy.set_currency(self.name[3:6])\n",
    "                \n",
    "                print(LHS_ccy.get_currency() + \" \" + RHS_ccy.get_currency())\n",
    "                \n",
    "            except AssertionError as error:\n",
    "                print(error)\n",
    "\n",
    "\n",
    "def main():\n",
    "    my_input = input(\"Enter the currency pair please: \")\n",
    "    ccy_pair = currency_pair()\n",
    "    ccy_pair.set_currency_pair(my_input)\n",
    "    \n",
    "if __name__ == \"__main__\":\n",
    "    main()"
   ]
  },
  {
   "cell_type": "code",
   "execution_count": null,
   "metadata": {},
   "outputs": [],
   "source": []
  }
 ],
 "metadata": {
  "kernelspec": {
   "display_name": "Python 3",
   "language": "python",
   "name": "python3"
  },
  "language_info": {
   "codemirror_mode": {
    "name": "ipython",
    "version": 3
   },
   "file_extension": ".py",
   "mimetype": "text/x-python",
   "name": "python",
   "nbconvert_exporter": "python",
   "pygments_lexer": "ipython3",
   "version": "3.6.5"
  }
 },
 "nbformat": 4,
 "nbformat_minor": 2
}
